{
 "cells": [
  {
   "cell_type": "markdown",
   "metadata": {},
   "source": [
    "# RESAS基本情報確認用API集"
   ]
  },
  {
   "cell_type": "markdown",
   "metadata": {},
   "source": [
    "** 初期設定 **"
   ]
  },
  {
   "cell_type": "code",
   "execution_count": null,
   "metadata": {
    "ExecuteTime": {
     "end_time": "2018-11-13T14:13:49.206764Z",
     "start_time": "2018-11-13T14:13:47.722490Z"
    }
   },
   "outputs": [],
   "source": [
    "import get_env\n",
    "\n",
    "import urllib\n",
    "import urllib.request\n",
    "import json\n",
    "import pprint\n",
    "import os\n",
    "import pandas as pd\n",
    "import numpy as np"
   ]
  },
  {
   "cell_type": "code",
   "execution_count": null,
   "metadata": {
    "ExecuteTime": {
     "end_time": "2018-11-13T14:14:01.098298Z",
     "start_time": "2018-11-13T14:14:01.083914Z"
    }
   },
   "outputs": [],
   "source": [
    "#取得したアプリケーションIDを設定\n",
    "appId = get_env.API_KEY"
   ]
  },
  {
   "cell_type": "code",
   "execution_count": null,
   "metadata": {
    "ExecuteTime": {
     "end_time": "2018-11-13T14:47:57.335328Z",
     "start_time": "2018-11-13T14:47:57.077533Z"
    }
   },
   "outputs": [],
   "source": [
    "##都道府県コード取得\n",
    "def get_pref():\n",
    "    #URL\n",
    "    url = \"https://opendata.resas-portal.go.jp/api/v1/prefectures\"\n",
    "\n",
    "    #設定するキー\n",
    "    keys = {\n",
    "            'Content-Type':'application/json',\n",
    "            'X-API-KEY': appId\n",
    "    }\n",
    "    \n",
    "    #keysからヘッダの文字列を生成\n",
    "    req = urllib.request.Request(url, headers=keys)\n",
    "\n",
    "    #JSONデータの取得\n",
    "    rObj   = urllib.request.urlopen(req)\n",
    "    resStr = rObj.read()\n",
    "\n",
    "    #json形式として読み込む\n",
    "    res = json.loads(resStr)\n",
    "\n",
    "    #JSON構造確認\n",
    "    #pprint.pprint(res, depth=8)\n",
    "\n",
    "    table = res[\"result\"]\n",
    "\n",
    "    #pandas.DataFrame変換\n",
    "    df = pd.io.json.json_normalize(table, sep='_')\n",
    "    #都道府県コードを0埋め2桁化\n",
    "    df['prefCode'] = df['prefCode'].astype(str).str.zfill(2)\n",
    "    #df = df.set_index('prefCode')\n",
    "    #display(df)\n",
    "    \n",
    "    return df"
   ]
  },
  {
   "cell_type": "code",
   "execution_count": null,
   "metadata": {
    "ExecuteTime": {
     "end_time": "2018-11-13T15:04:31.502650Z",
     "start_time": "2018-11-13T15:04:31.144390Z"
    }
   },
   "outputs": [],
   "source": [
    "##市町村コード取得\n",
    "##prefCodeは文字型先0の2桁コード\n",
    "def get_city(prefCode = '-'):\n",
    "    #URL\n",
    "    url = \"https://opendata.resas-portal.go.jp/api/v1/cities?\"\n",
    "\n",
    "    #設定するキー\n",
    "    keys = {\n",
    "            'Content-Type':'application/json',\n",
    "            'X-API-KEY': appId\n",
    "    }\n",
    "\n",
    "    #パラメーター\n",
    "    para = {\n",
    "            'prefCode':int(prefCode)\n",
    "    }\n",
    "    paramStr = urllib.parse.urlencode(para) \n",
    "\n",
    "    #keysからヘッダの文字列を生成\n",
    "    req = urllib.request.Request(url + paramStr, headers=keys)\n",
    "\n",
    "    #JSONデータの取得\n",
    "    rObj   = urllib.request.urlopen(req)\n",
    "    resStr = rObj.read()\n",
    "\n",
    "    #json形式として読み込む\n",
    "    res = json.loads(resStr)\n",
    "\n",
    "    #JSON構造確認\n",
    "    #pprint.pprint(res, depth=8)\n",
    "\n",
    "    table = res[\"result\"]\n",
    "\n",
    "    #pandas.DataFrame変換\n",
    "    df = pd.io.json.json_normalize(table, sep='_')\n",
    "    #都道府県コードを0埋め2桁化\n",
    "    df['prefCode'] = df['prefCode'].astype(str).str.zfill(2)\n",
    "    #df = df.set_index('prefCode')\n",
    "    #display(df)\n",
    "    \n",
    "    return df    "
   ]
  },
  {
   "cell_type": "code",
   "execution_count": null,
   "metadata": {
    "ExecuteTime": {
     "end_time": "2018-11-13T15:42:11.365011Z",
     "start_time": "2018-11-13T15:42:11.040835Z"
    }
   },
   "outputs": [],
   "source": [
    "##産業大分類コード取得\n",
    "def get_sicCode():\n",
    "    #URL\n",
    "    url = \"https://opendata.resas-portal.go.jp/api/v1/industries/broad\"\n",
    "\n",
    "    #設定するキー\n",
    "    keys = {\n",
    "            'Content-Type':'application/json',\n",
    "            'X-API-KEY': appId\n",
    "    }\n",
    "\n",
    "    #keysからヘッダの文字列を生成\n",
    "    req = urllib.request.Request(url, headers=keys)\n",
    "\n",
    "    #JSONデータの取得\n",
    "    rObj   = urllib.request.urlopen(req)\n",
    "    resStr = rObj.read()\n",
    "\n",
    "    #json形式として読み込む\n",
    "    res = json.loads(resStr)\n",
    "\n",
    "    #JSON構造確認\n",
    "    #pprint.pprint(res, depth=8)\n",
    "\n",
    "    table = res[\"result\"]\n",
    "\n",
    "    #pandas.DataFrame変換\n",
    "    df = pd.io.json.json_normalize(table, sep='_')\n",
    "    #df = df.set_index('prefCode')\n",
    "    #display(df)\n",
    "\n",
    "    return df"
   ]
  },
  {
   "cell_type": "code",
   "execution_count": null,
   "metadata": {
    "ExecuteTime": {
     "end_time": "2018-11-13T15:48:35.571742Z",
     "start_time": "2018-11-13T15:48:35.315961Z"
    }
   },
   "outputs": [],
   "source": [
    "##産業中分類コード取得\n",
    "##sicCodeは文字型1桁コード\n",
    "def get_simcCode(sicCode = '-'):\n",
    "    #URL\n",
    "    url = \"https://opendata.resas-portal.go.jp/api/v1/industries/middle?\"\n",
    "\n",
    "    #設定するキー\n",
    "    keys = {\n",
    "            'Content-Type':'application/json',\n",
    "            'X-API-KEY': appId\n",
    "    }\n",
    "\n",
    "    #パラメーター\n",
    "    para = {\n",
    "            'sicCode':sicCode\n",
    "    }\n",
    "    paramStr = urllib.parse.urlencode(para) \n",
    "\n",
    "    #keysからヘッダの文字列を生成\n",
    "    req = urllib.request.Request(url + paramStr, headers=keys)\n",
    "\n",
    "    #JSONデータの取得\n",
    "    rObj   = urllib.request.urlopen(req)\n",
    "    resStr = rObj.read()\n",
    "\n",
    "    #json形式として読み込む\n",
    "    res = json.loads(resStr)\n",
    "\n",
    "    #JSON構造確認\n",
    "    #pprint.pprint(res, depth=8)\n",
    "\n",
    "    table = res[\"result\"]\n",
    "\n",
    "    #pandas.DataFrame変換\n",
    "    df = pd.io.json.json_normalize(table, sep='_')\n",
    "    #display(df)\n",
    "    \n",
    "    return df"
   ]
  },
  {
   "cell_type": "code",
   "execution_count": null,
   "metadata": {
    "ExecuteTime": {
     "end_time": "2018-11-13T16:26:03.368555Z",
     "start_time": "2018-11-13T16:26:03.362604Z"
    }
   },
   "outputs": [],
   "source": [
    "##産業小分類コード取得\n",
    "##simcCodeは文字型先0の2桁コード\n",
    "def get_siscCode(simcCode = '-'):\n",
    "    #URL\n",
    "    url = \"https://opendata.resas-portal.go.jp/api/v1/industries/narrow?\"\n",
    "\n",
    "    #設定するキー\n",
    "    keys = {\n",
    "            'Content-Type':'application/json',\n",
    "            'X-API-KEY': appId\n",
    "    }\n",
    "\n",
    "    #パラメーター\n",
    "    para = {\n",
    "            #'simcCode':'{0:02d}'.format(int(simcCode)) #強制的に文字型変更\n",
    "            'simcCode':simcCode    \n",
    "    }\n",
    "    paramStr = urllib.parse.urlencode(para) \n",
    "\n",
    "    #keysからヘッダの文字列を生成\n",
    "    req = urllib.request.Request(url + paramStr, headers=keys)\n",
    "\n",
    "    #JSONデータの取得\n",
    "    rObj   = urllib.request.urlopen(req)\n",
    "    resStr = rObj.read()\n",
    "\n",
    "    #json形式として読み込む\n",
    "    res = json.loads(resStr)\n",
    "\n",
    "    #JSON構造確認\n",
    "    #pprint.pprint(res, depth=8)\n",
    "\n",
    "    table = res[\"result\"]\n",
    "\n",
    "    #pandas.DataFrame変換\n",
    "    df = pd.io.json.json_normalize(table, sep='_')\n",
    "    #display(df)\n",
    "\n",
    "    return df"
   ]
  },
  {
   "cell_type": "code",
   "execution_count": null,
   "metadata": {
    "ExecuteTime": {
     "end_time": "2018-11-13T16:26:28.172473Z",
     "start_time": "2018-11-13T16:26:27.792188Z"
    }
   },
   "outputs": [],
   "source": []
  },
  {
   "cell_type": "code",
   "execution_count": null,
   "metadata": {},
   "outputs": [],
   "source": [
    "以下、参考コード"
   ]
  },
  {
   "cell_type": "code",
   "execution_count": null,
   "metadata": {
    "ExecuteTime": {
     "end_time": "2018-11-09T16:52:08.310688Z",
     "start_time": "2018-11-09T16:51:55.895451Z"
    }
   },
   "outputs": [],
   "source": [
    "##キーワードから統計表情報取得（statsDataの検索）\n",
    "#e-StatのURL\n",
    "url = \"http://api.e-stat.go.jp/rest/2.1/app/json/getStatsList?\"\n",
    "\n",
    "#設定するキー\n",
    "keys = {\n",
    "        \"appId\": appId,\n",
    "        \"lang\": \"J\" ,\n",
    "        \"searchWord\": \"科学技術\", #検索キーワード（テキスト） AND OR NOT利用可\n",
    "        \"statsNameList\":\"Y\",\n",
    "        \"limit\":\"10\"   #検索結果取得上限数\n",
    "}\n",
    "\n",
    "#keysからパラメータの文字列を生成\n",
    "paramStr = urllib.parse.urlencode(keys)\n",
    "\n",
    "#JSONデータの取得\n",
    "rObj   = urllib.request.urlopen(url + paramStr)\n",
    "resStr = rObj.read()\n",
    "\n",
    "#json形式として読み込む\n",
    "res = json.loads(resStr)\n",
    "\n",
    "#JSON構造確認\n",
    "#pprint.pprint(res, depth=8)\n",
    "\n",
    "table_meta_info = res[\"GET_STATS_LIST\"][\"DATALIST_INF\"][\"LIST_INF\"]\n",
    "\n",
    "#pandas.DataFrame変換\n",
    "df = pd.io.json.json_normalize(table_meta_info, sep='_')\n",
    "\n",
    "#@や$等の記号類を変換\n",
    "df.columns = [s.replace('@', '').replace('$', 'val') for s in df.columns]\n",
    "\n",
    "df_list = df[[\"id\",\"GOV_ORG_val\",\"STAT_NAME_val\",\"STAT_NAME_code\"]]\n",
    "display(df_list)"
   ]
  },
  {
   "cell_type": "code",
   "execution_count": null,
   "metadata": {
    "ExecuteTime": {
     "end_time": "2018-11-09T17:24:09.652626Z",
     "start_time": "2018-11-09T17:24:08.377507Z"
    }
   },
   "outputs": [],
   "source": [
    "##統計表のデータカタログ情報取得（statsDataからデータセットIDの検索）\n",
    "#e-StatのURL\n",
    "url = \"http://api.e-stat.go.jp/rest/2.1/app/json/getStatsList?\"\n",
    "\n",
    "#設定するキー\n",
    "keys = {\n",
    "        \"appId\": appId,\n",
    "        \"lang\": \"J\" ,\n",
    "        \"statsCode\": \"00200543\", #00200543 科学技術研究調査\n",
    "        #\"searchWord\":\"大学 AND 組織 AND 学問 AND 研究関係従業者数 AND 受入研究費 AND 内部使用研究費 NOT 分析表\", #検索キーワード　AND OR NOT利用可\n",
    "        \"searchWord\":\"大学 NOT 分析表\",\n",
    "        \"limit\":\"\"   #取得上限\n",
    "}\n",
    "\n",
    "#keysからパラメータの文字列を生成\n",
    "paramStr = urllib.parse.urlencode(keys)\n",
    "\n",
    "#JSONデータの取得\n",
    "rObj   = urllib.request.urlopen(url + paramStr)\n",
    "resStr = rObj.read()\n",
    "\n",
    "#json形式として読み込む\n",
    "res = json.loads(resStr)\n",
    "\n",
    "#JSON構造確認\n",
    "#pprint.pprint(res, depth=8)\n",
    "\n",
    "table_meta_info = res[\"GET_STATS_LIST\"][\"DATALIST_INF\"][\"TABLE_INF\"]\n",
    "\n",
    "#pandas.DataFrame変換\n",
    "df = pd.io.json.json_normalize(table_meta_info, sep='_')\n",
    "\n",
    "##data.frameのindex確認\n",
    "#print(df.columns)\n",
    "#print('----------------')\n",
    "#print(df.info())\n",
    "#print('----------------')\n",
    "#print(df.index)\n",
    "\n",
    "#@や$等の記号類を変換\n",
    "df.columns = [s.replace('@', '').replace('$', 'val') for s in df.columns]\n",
    "##変換後のdata.frameのindex確認\n",
    "df_list = df[[\"id\",\"OPEN_DATE\",\"TITLE_val\",\"TITLE_no\",\"SURVEY_DATE\"]]\n",
    "display(df_list)\n",
    "#特定条件のリストの統計表のみ表示\n",
    "df_list.query('TITLE_no == \"02501\"')\n",
    "\n",
    "#CSV出力\n",
    "#path = \"C:/Pytmp/\"\n",
    "#os.chdir(path)\n",
    "#filename = 'stat_list.csv'\n",
    "#df.to_csv(filename, encoding=\"shift_jis\")"
   ]
  },
  {
   "cell_type": "code",
   "execution_count": null,
   "metadata": {
    "ExecuteTime": {
     "end_time": "2018-11-09T11:12:25.808112Z",
     "start_time": "2018-11-09T11:12:25.437961Z"
    }
   },
   "outputs": [],
   "source": [
    "#e-StatのURL\n",
    "url = \"http://api.e-stat.go.jp/rest/2.1/app/json/getStatsData?\"\n",
    "\n",
    "#設定するキー\n",
    "keys = {\n",
    "        \"appId\"              : appId,\n",
    "        \"lang\"                : \"J\" ,\n",
    "        #\"statsDataId\"      : \"0003191360\",  #犯罪統計\n",
    "        #\"statsDataId\"      : \"0003130148\", #自動車輸送 貨物輸送 業態別・車種別・品目別輸送トン数\n",
    "        \"statsDataId\"      : \"0003207780\",#[大学] 組織，大学等の種類別研究関係従業者数，内部使用研究費，受入研究費及び外部支出研究費\n",
    "        \"metaGetFlg\"      : \"Y\" ,\n",
    "        \"cntGetFlg\"         : \"N\",\n",
    "        \"sectionHeaderFlg\" : \"1\"\n",
    "}\n",
    "\n",
    "#keysからパラメータの文字列を生成\n",
    "paramStr = urllib.parse.urlencode(keys)\n",
    "\n",
    "#JSONデータの取得\n",
    "rObj   = urllib.request.urlopen(url + paramStr)\n",
    "resStr = rObj.read()\n",
    "\n",
    "#json形式として読み込む\n",
    "res = json.loads(resStr)"
   ]
  },
  {
   "cell_type": "code",
   "execution_count": null,
   "metadata": {
    "ExecuteTime": {
     "end_time": "2018-11-09T11:12:28.900184Z",
     "start_time": "2018-11-09T11:12:28.891248Z"
    }
   },
   "outputs": [],
   "source": [
    "##JSON構造確認\n",
    "pprint.pprint(res, depth=4)"
   ]
  },
  {
   "cell_type": "code",
   "execution_count": null,
   "metadata": {
    "ExecuteTime": {
     "end_time": "2018-11-09T11:28:53.878722Z",
     "start_time": "2018-11-09T11:28:53.875249Z"
    }
   },
   "outputs": [],
   "source": [
    "table_meta_info = res[\"GET_STATS_DATA\"][\"STATISTICAL_DATA\"][\"CLASS_INF\"][\"CLASS_OBJ\"]"
   ]
  },
  {
   "cell_type": "code",
   "execution_count": null,
   "metadata": {
    "ExecuteTime": {
     "end_time": "2018-11-09T13:13:36.366002Z",
     "start_time": "2018-11-09T13:13:36.359554Z"
    }
   },
   "outputs": [],
   "source": [
    "#print(type(table_meta_info))\n",
    "print(len(table_meta_info))\n",
    "#pprint.pprint(table_meta_info)\n",
    "print(table_meta_info[0]['@id'])\n",
    "\n",
    "l = range(len(table_meta_info[0]['@id']))\n",
    "print(l)\n",
    "for i in l:\n",
    "    print(i)"
   ]
  },
  {
   "cell_type": "code",
   "execution_count": null,
   "metadata": {
    "ExecuteTime": {
     "end_time": "2018-11-09T13:36:46.883512Z",
     "start_time": "2018-11-09T13:36:46.847306Z"
    }
   },
   "outputs": [],
   "source": [
    "df = pd.DataFrame()\n",
    "\n",
    "for i in range(len(table_meta_info[0]['@id']) - 1):\n",
    "    \n",
    "    df_tmp = []\n",
    "    #pandas.DataFrame変換\n",
    "    df_tmp = pd.io.json.json_normalize(table_meta_info[i],  ['CLASS'], errors='ignore')\n",
    "    df_tmp = df_tmp.assign(cat=table_meta_info[i]['@id'])\n",
    "    \n",
    "    df = df.append(df_tmp, ignore_index=True)\n",
    "\n",
    "df = df.loc[:,['cat','@code','@name']]\n",
    "#@や$等の記号類を変換\n",
    "df.columns = [s.replace('@', '').replace('$', 'val') for s in df.columns]\n",
    "\n",
    "display(df)"
   ]
  },
  {
   "cell_type": "code",
   "execution_count": null,
   "metadata": {
    "ExecuteTime": {
     "end_time": "2018-11-09T12:08:52.134205Z",
     "start_time": "2018-11-09T12:08:52.128749Z"
    }
   },
   "outputs": [],
   "source": [
    "table_meta_info = res[\"GET_STATS_DATA\"][\"STATISTICAL_DATA\"][\"CLASS_INF\"][\"CLASS_OBJ\"]"
   ]
  },
  {
   "cell_type": "code",
   "execution_count": null,
   "metadata": {
    "ExecuteTime": {
     "end_time": "2018-11-09T13:07:31.187606Z",
     "start_time": "2018-11-09T13:07:31.169254Z"
    },
    "scrolled": true
   },
   "outputs": [],
   "source": [
    "print(type(table_meta_info))\n",
    "print(len(table_meta_info))\n",
    "pprint.pprint(table_meta_info)"
   ]
  },
  {
   "cell_type": "code",
   "execution_count": null,
   "metadata": {
    "ExecuteTime": {
     "end_time": "2018-11-09T12:09:19.895387Z",
     "start_time": "2018-11-09T12:09:19.889436Z"
    }
   },
   "outputs": [],
   "source": [
    "table_info_list = res[\"GET_STATS_DATA\"][\"STATISTICAL_DATA\"][\"DATA_INF\"]"
   ]
  },
  {
   "cell_type": "code",
   "execution_count": null,
   "metadata": {
    "ExecuteTime": {
     "end_time": "2018-11-09T12:09:23.020804Z",
     "start_time": "2018-11-09T12:09:21.576906Z"
    }
   },
   "outputs": [],
   "source": [
    "##DATA_INFO下の構造確認\n",
    "print(type(table_info_list))\n",
    "print(len(table_info_list))\n",
    "pprint.pprint(table_info_list)"
   ]
  }
 ],
 "metadata": {
  "kernelspec": {
   "display_name": "py36",
   "language": "python",
   "name": "py36"
  },
  "language_info": {
   "codemirror_mode": {
    "name": "ipython",
    "version": 3
   },
   "file_extension": ".py",
   "mimetype": "text/x-python",
   "name": "python",
   "nbconvert_exporter": "python",
   "pygments_lexer": "ipython3",
   "version": "3.6.7"
  },
  "toc": {
   "base_numbering": 1,
   "nav_menu": {},
   "number_sections": true,
   "sideBar": true,
   "skip_h1_title": false,
   "title_cell": "Table of Contents",
   "title_sidebar": "Contents",
   "toc_cell": false,
   "toc_position": {},
   "toc_section_display": true,
   "toc_window_display": false
  }
 },
 "nbformat": 4,
 "nbformat_minor": 2
}
